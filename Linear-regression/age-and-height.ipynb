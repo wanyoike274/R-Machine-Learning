{
 "cells": [
  {
   "cell_type": "code",
   "execution_count": 3,
   "id": "d74958c5",
   "metadata": {},
   "outputs": [
    {
     "name": "stderr",
     "output_type": "stream",
     "text": [
      "also installing the dependency 'cpp11'\n",
      "\n"
     ]
    },
    {
     "name": "stdout",
     "output_type": "stream",
     "text": [
      "\n",
      "  There are binary versions available but the source versions are later:\n",
      "       binary source needs_compilation\n",
      "cpp11   0.2.7  0.4.3             FALSE\n",
      "readxl  1.3.1  1.4.2              TRUE\n",
      "\n",
      "  Binaries will be installed\n"
     ]
    },
    {
     "name": "stderr",
     "output_type": "stream",
     "text": [
      "Warning message:\n",
      "\"package 'readxl' is in use and will not be installed\"installing the source package 'cpp11'\n",
      "\n"
     ]
    }
   ],
   "source": [
    "install.packages(\"readxl\")\n",
    "library(readxl)"
   ]
  },
  {
   "cell_type": "code",
   "execution_count": 4,
   "id": "314e2c43",
   "metadata": {},
   "outputs": [],
   "source": [
    "ageandheight <- read_excel(\"ageandheight.xls\", sheet = \"Hoja2\")"
   ]
  },
  {
   "cell_type": "code",
   "execution_count": 5,
   "id": "d02ba709",
   "metadata": {},
   "outputs": [
    {
     "data": {
      "text/html": [
       "<table>\n",
       "<thead><tr><th scope=col>age</th><th scope=col>height</th><th scope=col>no_siblings</th></tr></thead>\n",
       "<tbody>\n",
       "\t<tr><td>18   </td><td>76.10</td><td>1    </td></tr>\n",
       "\t<tr><td>19   </td><td>77.00</td><td>2    </td></tr>\n",
       "\t<tr><td>20   </td><td>78.10</td><td>3    </td></tr>\n",
       "\t<tr><td>21   </td><td>78.20</td><td>2    </td></tr>\n",
       "\t<tr><td>22   </td><td>78.80</td><td>0    </td></tr>\n",
       "\t<tr><td>23   </td><td>79.70</td><td>1    </td></tr>\n",
       "\t<tr><td>24   </td><td> 7.99</td><td>5    </td></tr>\n",
       "\t<tr><td>25   </td><td>81.10</td><td>0    </td></tr>\n",
       "\t<tr><td>26   </td><td>81.20</td><td>1    </td></tr>\n",
       "\t<tr><td>27   </td><td>81.80</td><td>4    </td></tr>\n",
       "\t<tr><td>28   </td><td>82.80</td><td>1    </td></tr>\n",
       "\t<tr><td>29   </td><td>83.50</td><td>5    </td></tr>\n",
       "</tbody>\n",
       "</table>\n"
      ],
      "text/latex": [
       "\\begin{tabular}{r|lll}\n",
       " age & height & no\\_siblings\\\\\n",
       "\\hline\n",
       "\t 18    & 76.10 & 1    \\\\\n",
       "\t 19    & 77.00 & 2    \\\\\n",
       "\t 20    & 78.10 & 3    \\\\\n",
       "\t 21    & 78.20 & 2    \\\\\n",
       "\t 22    & 78.80 & 0    \\\\\n",
       "\t 23    & 79.70 & 1    \\\\\n",
       "\t 24    &  7.99 & 5    \\\\\n",
       "\t 25    & 81.10 & 0    \\\\\n",
       "\t 26    & 81.20 & 1    \\\\\n",
       "\t 27    & 81.80 & 4    \\\\\n",
       "\t 28    & 82.80 & 1    \\\\\n",
       "\t 29    & 83.50 & 5    \\\\\n",
       "\\end{tabular}\n"
      ],
      "text/markdown": [
       "\n",
       "| age | height | no_siblings |\n",
       "|---|---|---|\n",
       "| 18    | 76.10 | 1     |\n",
       "| 19    | 77.00 | 2     |\n",
       "| 20    | 78.10 | 3     |\n",
       "| 21    | 78.20 | 2     |\n",
       "| 22    | 78.80 | 0     |\n",
       "| 23    | 79.70 | 1     |\n",
       "| 24    |  7.99 | 5     |\n",
       "| 25    | 81.10 | 0     |\n",
       "| 26    | 81.20 | 1     |\n",
       "| 27    | 81.80 | 4     |\n",
       "| 28    | 82.80 | 1     |\n",
       "| 29    | 83.50 | 5     |\n",
       "\n"
      ],
      "text/plain": [
       "   age height no_siblings\n",
       "1  18  76.10  1          \n",
       "2  19  77.00  2          \n",
       "3  20  78.10  3          \n",
       "4  21  78.20  2          \n",
       "5  22  78.80  0          \n",
       "6  23  79.70  1          \n",
       "7  24   7.99  5          \n",
       "8  25  81.10  0          \n",
       "9  26  81.20  1          \n",
       "10 27  81.80  4          \n",
       "11 28  82.80  1          \n",
       "12 29  83.50  5          "
      ]
     },
     "metadata": {},
     "output_type": "display_data"
    }
   ],
   "source": [
    "ageandheight"
   ]
  },
  {
   "cell_type": "code",
   "execution_count": 6,
   "id": "6de78d51",
   "metadata": {},
   "outputs": [],
   "source": [
    "lmheight <- lm(height~age, data = ageandheight)"
   ]
  },
  {
   "cell_type": "code",
   "execution_count": 7,
   "id": "122f6cc5",
   "metadata": {},
   "outputs": [
    {
     "data": {
      "text/plain": [
       "\n",
       "Call:\n",
       "lm(formula = height ~ age, data = ageandheight)\n",
       "\n",
       "Residuals:\n",
       "    Min      1Q  Median      3Q     Max \n",
       "-66.059   5.193   5.810   6.617   7.533 \n",
       "\n",
       "Coefficients:\n",
       "            Estimate Std. Error t value Pr(>|t|)\n",
       "(Intercept)  64.8445    43.3815   1.495    0.166\n",
       "age           0.3835     1.8264   0.210    0.838\n",
       "\n",
       "Residual standard error: 21.84 on 10 degrees of freedom\n",
       "Multiple R-squared:  0.00439,\tAdjusted R-squared:  -0.09517 \n",
       "F-statistic: 0.0441 on 1 and 10 DF,  p-value: 0.8379\n"
      ]
     },
     "metadata": {},
     "output_type": "display_data"
    }
   ],
   "source": [
    "summary(lmheight)"
   ]
  },
  {
   "cell_type": "code",
   "execution_count": 8,
   "id": "7feda343",
   "metadata": {},
   "outputs": [],
   "source": [
    "lmheight2 <- lm(height~age + no_siblings, data = ageandheight)"
   ]
  },
  {
   "cell_type": "code",
   "execution_count": 9,
   "id": "174ff201",
   "metadata": {},
   "outputs": [
    {
     "data": {
      "text/plain": [
       "\n",
       "Call:\n",
       "lm(formula = height ~ age + no_siblings, data = ageandheight)\n",
       "\n",
       "Residuals:\n",
       "    Min      1Q  Median      3Q     Max \n",
       "-47.808  -4.521   1.002  10.025  21.186 \n",
       "\n",
       "Coefficients:\n",
       "            Estimate Std. Error t value Pr(>|t|)  \n",
       "(Intercept)   56.597     39.166   1.445   0.1823  \n",
       "age            1.303      1.712   0.761   0.4660  \n",
       "no_siblings   -6.415      3.464  -1.852   0.0971 .\n",
       "---\n",
       "Signif. codes:  0 '***' 0.001 '**' 0.01 '*' 0.05 '.' 0.1 ' ' 1\n",
       "\n",
       "Residual standard error: 19.59 on 9 degrees of freedom\n",
       "Multiple R-squared:  0.2791,\tAdjusted R-squared:  0.1189 \n",
       "F-statistic: 1.742 on 2 and 9 DF,  p-value: 0.2293\n"
      ]
     },
     "metadata": {},
     "output_type": "display_data"
    }
   ],
   "source": [
    "summary(lmheight2)"
   ]
  },
  {
   "cell_type": "code",
   "execution_count": null,
   "id": "3a3b7ea0",
   "metadata": {},
   "outputs": [],
   "source": [
    "#residuals is the differences between the real values and the predicted values"
   ]
  }
 ],
 "metadata": {
  "kernelspec": {
   "display_name": "R",
   "language": "R",
   "name": "ir"
  },
  "language_info": {
   "codemirror_mode": "r",
   "file_extension": ".r",
   "mimetype": "text/x-r-source",
   "name": "R",
   "pygments_lexer": "r",
   "version": "3.6.1"
  }
 },
 "nbformat": 4,
 "nbformat_minor": 5
}
